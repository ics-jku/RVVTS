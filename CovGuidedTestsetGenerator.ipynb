{
 "cells": [
  {
   "cell_type": "markdown",
   "id": "7c5c0656-97dc-446b-8896-10caa00dec72",
   "metadata": {},
   "source": [
    "(C) 2023-24 Manfred Schlaegl <manfred.schlaegl@jku.at>, Institute for Complex Systems, JKU Linz\n",
    "\n",
    "SPDX-License-Identifier: BSD 3-clause \"New\" or \"Revised\" License"
   ]
  },
  {
   "cell_type": "code",
   "execution_count": null,
   "id": "6056b1db-968d-40db-ab73-50c700753b7c",
   "metadata": {},
   "outputs": [],
   "source": [
    "import sys\n",
    "import time\n",
    "import os\n",
    "import shutil\n",
    "import concurrent.futures\n",
    "\n",
    "import rvvts"
   ]
  },
  {
   "cell_type": "markdown",
   "id": "e903e369-97ae-47c8-9ace-117fd848bcc7",
   "metadata": {},
   "source": [
    "## Config"
   ]
  },
  {
   "cell_type": "code",
   "execution_count": null,
   "id": "4d643001-3643-4119-8503-7b11860e92fd",
   "metadata": {},
   "outputs": [],
   "source": [
    "RV_XLEN = 64\n",
    "RVV_VLEN = 512\n",
    "TESTSET_NAME = \"RVV_test1\"\n",
    "\n",
    "# testcases to generate\n",
    "N_RESULTS = 100\n",
    "\n",
    "# minimum coverage of testcase\n",
    "MIN_COV = 10.0\n",
    "\n",
    "# max workers (machine dependent)\n",
    "MAX_WORKERS = 10\n",
    "# sub iterations before status\n",
    "SUBITERATIONS = 20"
   ]
  },
  {
   "cell_type": "code",
   "execution_count": null,
   "id": "8afb8f52-d8f5-4921-8ede-389de119fcbe",
   "metadata": {},
   "outputs": [],
   "source": [
    "%run config_internal.ipynb\n",
    "%run config_host.ipynb"
   ]
  },
  {
   "cell_type": "code",
   "execution_count": null,
   "id": "c2d73991-c561-4879-8e3b-9782d5d3b46b",
   "metadata": {},
   "outputs": [],
   "source": [
    "# working dir\n",
    "DIR = os.getcwd() + \"/run/CovGuidedTestset_RV\" + str(RV_XLEN) + \"_\" + str(TESTSET_NAME) + \"_\" + str(N_RESULTS) + \"_\" + str(MIN_COV)\n",
    "\n",
    "# force stop flag file -> create to stop all processes\n",
    "FORCE_STOP_FILE = DIR + \"/FORCE_STOP_FLAG\"\n",
    "\n",
    "# build config\n",
    "config = dict()\n",
    "config.update(config_internal.copy())\n",
    "config.update(config_host.copy())\n",
    "config.update(dict(\n",
    "    dir = DIR,\n",
    "\n",
    "    RefCovRunner_coverage = rvvts.RISCVOVPSIMCoverageRunner,\n",
    "    #RISCVOVPSIMCover_metric = \"basic\", # basic, extended or mnemonic\n",
    "    RISCVOVPSIMCover_metric = \"extended\", # basic, extended or mnemonic\n",
    "\n",
    "    xlen = RV_XLEN,\n",
    "    vector_vlen = RVV_VLEN,\n",
    "))"
   ]
  },
  {
   "cell_type": "markdown",
   "id": "b9519a8c-4e60-431f-9821-339c457e3b7a",
   "metadata": {},
   "source": [
    "## Implementation"
   ]
  },
  {
   "cell_type": "code",
   "execution_count": null,
   "id": "01f442e2-5428-47de-b6ae-7477a563dfe9",
   "metadata": {},
   "outputs": [],
   "source": [
    "def is_force_stop():\n",
    "    if os.path.isfile(FORCE_STOP_FILE):\n",
    "        return True\n",
    "    return False\n",
    "\n",
    "def set_force_stop(set):\n",
    "    if is_force_stop():\n",
    "        os.remove(FORCE_STOP_FILE)\n",
    "    if set:\n",
    "        open(FORCE_STOP_FILE, \"w\")"
   ]
  },
  {
   "cell_type": "code",
   "execution_count": null,
   "id": "124c591e-33d6-4500-8aaf-fe89ad95ed07",
   "metadata": {},
   "outputs": [],
   "source": [
    "def generator(id):\n",
    "\n",
    "    # don't begin when stop is requested\n",
    "    if is_force_stop():\n",
    "        return\n",
    "\n",
    "    id_str = \"(\" + str(id) + \")\"\n",
    "    print(\"BEGIN\" + id_str)\n",
    "\n",
    "    id_dir = config[\"dir\"] + \"/\" + str(id)\n",
    "    exc_file = id_dir + \"/EXCEPTION.log\"\n",
    "\n",
    "    try:\n",
    "        # cleanup exception file\n",
    "        if os.path.isfile(exc_file):\n",
    "            os.remove(exc_file)\n",
    "\n",
    "        wconfig = config.copy()\n",
    "        wconfig[\"dir\"] = id_dir\n",
    "        runner = rvvts.CovGuidedFuzzerGenRunner(wconfig)\n",
    "\n",
    "        while True:\n",
    "            if is_force_stop():\n",
    "                print(\"FORCE STOP\" + id_str)\n",
    "                break\n",
    "\n",
    "            ret = runner.run(\n",
    "                subiterations = SUBITERATIONS,\n",
    "                min_start_fragments = 1,\n",
    "                max_start_fragments = 5,\n",
    "                timeout = 5.0,\n",
    "                blocking = True\n",
    "            )\n",
    "            if ret[0] != rvvts.RunnerOutcome.COMPLETE:\n",
    "                print(\"ERROR\" + id_str)\n",
    "                break\n",
    "     \n",
    "            # run until coverage is reached\n",
    "            if ret[1][2] >= MIN_COV:\n",
    "                print(\"MIN_COV REACHED\" + id_str)\n",
    "                break\n",
    "\n",
    "    except Exception as e:\n",
    "        print(\"EXCEPTION\" + id_str)\n",
    "        import traceback # SIC! (does not work if moved to header)\n",
    "        with open(exc_file, \"w\") as file:\n",
    "            traceback.print_exc(file = file)\n",
    "\n",
    "    print(\"END\" + id_str)"
   ]
  },
  {
   "cell_type": "markdown",
   "id": "5ded0718-cd92-46b2-a9ae-779c9d56cb76",
   "metadata": {},
   "source": [
    "## RUN"
   ]
  },
  {
   "cell_type": "code",
   "execution_count": null,
   "id": "96521541-4eb0-49db-b73a-f95338e70ba2",
   "metadata": {},
   "outputs": [],
   "source": [
    "print(\"START \" + DIR)\n",
    "set_force_stop(False)\n",
    "ids = []\n",
    "for id in range(N_RESULTS):\n",
    "    ids.append(str(id))\n",
    "executor = concurrent.futures.ProcessPoolExecutor(max_workers = MAX_WORKERS)\n",
    "executor.map(generator, ids)"
   ]
  },
  {
   "cell_type": "code",
   "execution_count": null,
   "id": "638f5008-9639-4e29-9cde-a4ab0290b9af",
   "metadata": {},
   "outputs": [],
   "source": [
    "while True:\n",
    "    time.sleep(1000000)"
   ]
  },
  {
   "cell_type": "markdown",
   "id": "7214c77d-6ebc-45a0-8c87-d3bf144b7e4b",
   "metadata": {},
   "source": [
    "# STOP\n",
    "(stop notebook and execute following line)"
   ]
  },
  {
   "cell_type": "code",
   "execution_count": null,
   "id": "90d33a5b-af78-423e-9a0e-4f5c0aa17d9c",
   "metadata": {},
   "outputs": [],
   "source": [
    "set_force_stop(True)"
   ]
  },
  {
   "cell_type": "code",
   "execution_count": null,
   "id": "626fae5e-35d7-4f82-bfd5-06ff16b6c1c2",
   "metadata": {},
   "outputs": [],
   "source": []
  }
 ],
 "metadata": {
  "kernelspec": {
   "display_name": "Python 3 (ipykernel)",
   "language": "python",
   "name": "python3"
  },
  "language_info": {
   "codemirror_mode": {
    "name": "ipython",
    "version": 3
   },
   "file_extension": ".py",
   "mimetype": "text/x-python",
   "name": "python",
   "nbconvert_exporter": "python",
   "pygments_lexer": "ipython3",
   "version": "3.11.4"
  }
 },
 "nbformat": 4,
 "nbformat_minor": 5
}
