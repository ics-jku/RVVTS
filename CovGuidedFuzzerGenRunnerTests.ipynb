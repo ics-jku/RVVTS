{
 "cells": [
  {
   "cell_type": "markdown",
   "id": "d36e4a6b-e782-4e74-9c48-b38e19e9bba7",
   "metadata": {},
   "source": [
    "(C) 2023-24 Manfred Schlaegl <manfred.schlaegl@jku.at>, Institute for Complex Systems, JKU Linz\n",
    "\n",
    "SPDX-License-Identifier: BSD 3-clause \"New\" or \"Revised\" License"
   ]
  },
  {
   "cell_type": "code",
   "execution_count": null,
   "id": "6056b1db-968d-40db-ab73-50c700753b7c",
   "metadata": {},
   "outputs": [],
   "source": [
    "import os\n",
    "import rvvts"
   ]
  },
  {
   "cell_type": "markdown",
   "id": "e903e369-97ae-47c8-9ace-117fd848bcc7",
   "metadata": {},
   "source": [
    "## Config"
   ]
  },
  {
   "cell_type": "code",
   "execution_count": null,
   "id": "8afb8f52-d8f5-4921-8ede-389de119fcbe",
   "metadata": {},
   "outputs": [],
   "source": [
    "%run config_internal.ipynb\n",
    "%run config_host.ipynb"
   ]
  },
  {
   "cell_type": "code",
   "execution_count": null,
   "id": "5af57527-e043-420b-87a8-1f4417d8a344",
   "metadata": {},
   "outputs": [],
   "source": [
    "# MAIN SETTINGS\n",
    "#xlen = 32\n",
    "xlen = 64\n",
    "\n",
    "#vector_vlen = 128\n",
    "vector_vlen = 512\n",
    "\n",
    "\n",
    "# build config\n",
    "config = dict()\n",
    "config.update(config_internal.copy())\n",
    "config.update(config_host.copy())\n",
    "config.update(dict(\n",
    "    dir = os.getcwd() + \"/run/CovGuidedFuzzerGenRunner\",\n",
    "\n",
    "    RefCovRunner_coverage = rvvts.RISCVOVPSIMCoverageRunner,\n",
    "    #RISCVOVPSIMCover_metric = \"basic\", # basic, extended or mnemonic\n",
    "    RISCVOVPSIMCover_metric = \"extended\", # basic, extended or mnemonic\n",
    "\n",
    "    xlen = xlen,\n",
    "    vector_vlen = vector_vlen,\n",
    "))"
   ]
  },
  {
   "cell_type": "markdown",
   "id": "5792edff-8ce2-434b-8dae-42afea996163",
   "metadata": {},
   "source": [
    "## Setup"
   ]
  },
  {
   "cell_type": "code",
   "execution_count": null,
   "id": "6ede87c0-4398-4fd7-b32c-a50b062cb632",
   "metadata": {
    "scrolled": true
   },
   "outputs": [],
   "source": [
    "runner = rvvts.CovGuidedFuzzerGenRunner(config)"
   ]
  },
  {
   "cell_type": "code",
   "execution_count": null,
   "id": "0b2737eb-df1e-429d-a69e-4774b8360801",
   "metadata": {},
   "outputs": [],
   "source": [
    "def CovGuidedFuzzerGen_stats(runner):\n",
    "    frr = runner\n",
    "\n",
    "    out = \", STATS: [ generates: \" + str(frr.generates) +\\\n",
    "            \", ignores: \" + str(frr.ignores) +\\\n",
    "            \", timeouts: \" + str(frr.timeouts) +\\\n",
    "            \", errors: \" + str(frr.errors) +\\\n",
    "            \", unknown_faults: \" + str(frr.unknown_faults) +\\\n",
    "            \", completes: \" + str(frr.completes) +\\\n",
    "            \", exceptions: \" + str(frr.exceptions) +\\\n",
    "            \", valids: \" + str(frr.valids) +\\\n",
    "            \", extensions: \" + str(frr.extensions) +\\\n",
    "            \", extensions_redcov: \" + str(frr.extensions_redcov) +\\\n",
    "            \", reductions: \" + str(frr.reductions) +\\\n",
    "            \", codelen: \" + str(frr.code_len) +\\\n",
    "            \", cov_points: \" + str(frr.coverage[0]) +\\\n",
    "            \", cov_percent: \" + str(frr.coverage[1])\n",
    "\n",
    "    out += \" ] \"\n",
    "    return out"
   ]
  },
  {
   "cell_type": "markdown",
   "id": "6a36c6dc-a7d1-4462-a5d1-62109bb16e9c",
   "metadata": {},
   "source": [
    "## RUN"
   ]
  },
  {
   "cell_type": "code",
   "execution_count": null,
   "id": "05746d69-56ca-4892-b9ba-7c810ad22a5a",
   "metadata": {
    "scrolled": true
   },
   "outputs": [],
   "source": [
    "rvvts.runner_bench(\n",
    "    runner,\n",
    "    custom_stat_f = CovGuidedFuzzerGen_stats,\n",
    "    iter = 10000000,\n",
    "    subiterations = 20,\n",
    "    #subiterations = 1,\n",
    "    min_start_fragments = 1,\n",
    "    max_start_fragments = 5,\n",
    "    timeout = 3.0,\n",
    "    #stop_on_error = True,\n",
    ")"
   ]
  }
 ],
 "metadata": {
  "kernelspec": {
   "display_name": "Python 3 (ipykernel)",
   "language": "python",
   "name": "python3"
  },
  "language_info": {
   "codemirror_mode": {
    "name": "ipython",
    "version": 3
   },
   "file_extension": ".py",
   "mimetype": "text/x-python",
   "name": "python",
   "nbconvert_exporter": "python",
   "pygments_lexer": "ipython3",
   "version": "3.11.4"
  }
 },
 "nbformat": 4,
 "nbformat_minor": 5
}
