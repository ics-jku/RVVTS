{
 "cells": [
  {
   "cell_type": "markdown",
   "id": "3ce2e5b0-dd3b-4f97-bc95-5007449ea5c1",
   "metadata": {},
   "source": [
    "(C) 2023-24 Manfred Schlaegl <manfred.schlaegl@jku.at>, Institute for Complex Systems, JKU Linz\n",
    "\n",
    "SPDX-License-Identifier: BSD 3-clause \"New\" or \"Revised\" License"
   ]
  },
  {
   "cell_type": "markdown",
   "id": "04c01cae-6fbe-48fb-b357-2fcc0ee3ad13",
   "metadata": {},
   "source": [
    "# Global host specific configuration for RVVTS"
   ]
  },
  {
   "cell_type": "code",
   "execution_count": null,
   "id": "3a8db61d-95e2-4a26-a75e-0702e5c341e6",
   "metadata": {},
   "outputs": [],
   "source": [
    "config_host = dict(\n",
    "    # GCC binary\n",
    "    # Mandatoryifor RISC-V builds\n",
    "    gcc_bin = \"/opt/riscv-gnu-toolchain-multi-2024.09.03/bin/riscv32-unknown-elf-gcc\",\n",
    "\n",
    "    # GNU Debugger binary\n",
    "    # Mandatory for state extraction from RISC-V VP++, QEMU, ...\n",
    "    gdb_bin = \"/opt/riscv-gnu-toolchain-multi-2024.09.03/bin/riscv32-unknown-elf-gdb\",\n",
    "\n",
    "    # Spike simulator binary\n",
    "    # Mandatory for reference simulation\n",
    "    spike_bin = \"/opt/spike/spike\",\n",
    "\n",
    "    # RISCVOVPSim binary\n",
    "    # Optional (Coverage measurement)\n",
    "    riscvovpsim_bin = \"/opt/imperas-riscv-tests/riscv-ovpsim/bin/Linux64/riscvOVPsim.exe\",\n",
    "\n",
    "    # Path to RISC-V VP++ binaries\n",
    "    # Optional (VP tests)\n",
    "    vp_path = \"/home/ame/ICS_WORK/RVV/GUI-VP_Kit/riscv-vp-plusplus/vp/build/bin\",\n",
    "\n",
    "    # Path to QEMU binaries\n",
    "    # Optional (QEMU tests)\n",
    "    qemu_path = \"/opt/qemu\",\n",
    ")"
   ]
  }
 ],
 "metadata": {
  "kernelspec": {
   "display_name": "Python 3 (ipykernel)",
   "language": "python",
   "name": "python3"
  },
  "language_info": {
   "codemirror_mode": {
    "name": "ipython",
    "version": 3
   },
   "file_extension": ".py",
   "mimetype": "text/x-python",
   "name": "python",
   "nbconvert_exporter": "python",
   "pygments_lexer": "ipython3",
   "version": "3.11.4"
  }
 },
 "nbformat": 4,
 "nbformat_minor": 5
}
