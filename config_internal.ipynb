{
 "cells": [
  {
   "cell_type": "markdown",
   "id": "3ce2e5b0-dd3b-4f97-bc95-5007449ea5c1",
   "metadata": {},
   "source": [
    "(C) 2023-24 Manfred Schlaegl <manfred.schlaegl@jku.at>, Institute for Complex Systems, JKU Linz\n",
    "\n",
    "SPDX-License-Identifier: BSD 3-clause \"New\" or \"Revised\" License"
   ]
  },
  {
   "cell_type": "markdown",
   "id": "04c01cae-6fbe-48fb-b357-2fcc0ee3ad13",
   "metadata": {},
   "source": [
    "# Global internal configuration for RVVTS\n",
    "(Overrride in custom config; only change if you know what you are doing!)"
   ]
  },
  {
   "cell_type": "code",
   "execution_count": null,
   "id": "c128125a-c738-49be-af1e-bfa5004ab95d",
   "metadata": {},
   "outputs": [],
   "source": [
    "memstart = 0x80020000 # compatible with qemu and riscv-vp++\n",
    "memlen = 3*1024*1024 # 3MiB"
   ]
  },
  {
   "cell_type": "code",
   "execution_count": null,
   "id": "3a8db61d-95e2-4a26-a75e-0702e5c341e6",
   "metadata": {},
   "outputs": [],
   "source": [
    "config_internal = dict(\n",
    "    log = True,\n",
    "    build_ignore_error = True,\n",
    "    stop_on_exception = False,\n",
    "    skip_on_exception = True,\n",
    "    # reserve 10KiB in xmem for dumpfile (TODO: automate calculation)\n",
    "    dumpfile_reserve = 10*1024,\n",
    "\n",
    "    # EXPERIMENTAL: ENABLING THIS MAKES NOT MUCH SENSE YET!\n",
    "    CovGuidedFuzzerGen_allow_exceptions = False,\n",
    "\n",
    "    archive_on_timeout = True,\n",
    "    archive_on_ignore = True,\n",
    "    archive_on_error = True,\n",
    "    archive_on_complete = False,\n",
    "\n",
    "    RefCovRunner_coverage = None,\n",
    "    RISCVOVPSIMCover_extensions = \"V\",\n",
    "\n",
    "    rv_extensions = \"fdv\",\n",
    "    vector_elen = 64,\n",
    "\n",
    "    memstart = memstart,\n",
    "    memlen = memlen,\n",
    "    xmemstart = memstart,\n",
    "    xmemlen = memlen // 2,\n",
    "    dmemstart = memstart + memlen // 2,\n",
    "    dmemlen = memlen // 2,\n",
    ")"
   ]
  }
 ],
 "metadata": {
  "kernelspec": {
   "display_name": "Python 3 (ipykernel)",
   "language": "python",
   "name": "python3"
  },
  "language_info": {
   "codemirror_mode": {
    "name": "ipython",
    "version": 3
   },
   "file_extension": ".py",
   "mimetype": "text/x-python",
   "name": "python",
   "nbconvert_exporter": "python",
   "pygments_lexer": "ipython3",
   "version": "3.11.4"
  }
 },
 "nbformat": 4,
 "nbformat_minor": 5
}
