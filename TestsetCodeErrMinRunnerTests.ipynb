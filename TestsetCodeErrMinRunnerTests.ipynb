{
 "cells": [
  {
   "cell_type": "markdown",
   "id": "3fabb344-2e30-4889-9782-9b9c1651ec54",
   "metadata": {},
   "source": [
    "(C) 2023-24 Manfred Schlaegl <manfred.schlaegl@jku.at>, Institute for Complex Systems, JKU Linz\n",
    "\n",
    "SPDX-License-Identifier: BSD 3-clause \"New\" or \"Revised\" License"
   ]
  },
  {
   "cell_type": "code",
   "execution_count": null,
   "id": "6056b1db-968d-40db-ab73-50c700753b7c",
   "metadata": {},
   "outputs": [],
   "source": [
    "import os\n",
    "import rvvts"
   ]
  },
  {
   "cell_type": "markdown",
   "id": "e903e369-97ae-47c8-9ace-117fd848bcc7",
   "metadata": {},
   "source": [
    "## Config"
   ]
  },
  {
   "cell_type": "code",
   "execution_count": null,
   "id": "98ac9510-116e-4a79-a780-ecc04f9e5601",
   "metadata": {},
   "outputs": [],
   "source": [
    "%run config_internal.ipynb\n",
    "%run config_host.ipynb"
   ]
  },
  {
   "cell_type": "code",
   "execution_count": null,
   "id": "229f9fe1-0453-4907-828a-58f7213b0dd6",
   "metadata": {},
   "outputs": [],
   "source": [
    "# MAIN SETTINGS\n",
    "instance = 100\n",
    "\n",
    "dut = \"VP\"\n",
    "#dut = \"QEMU\"\n",
    "\n",
    "#xlen = 32\n",
    "xlen = 64\n",
    "\n",
    "#vector_vlen = 128\n",
    "vector_vlen = 512\n",
    "\n",
    "testset_type = \"ValidSeq\"           # pure positive testing\n",
    "#testset_type = \"InvalidValidSeq\"   # positive/negative testing\n",
    "\n",
    "\n",
    "# build config\n",
    "config = dict()\n",
    "config.update(config_internal.copy())\n",
    "config.update(config_host.copy())\n",
    "config.update(dict(\n",
    "    dir = os.getcwd() + \"/run/TestsetCodeErrMinRunner_\" + str(instance) + \"_\" + dut,\n",
    "\n",
    "    ArchiveRunner_dut = rvvts.TestsetCodeErrMinRunner,\n",
    "\n",
    "    # pre-generated test sets\n",
    "    testset_dir = os.getcwd() + \"/TestSets/TestSet_\" + testset_type + \"_RV\" + str(xlen) + \"_3MiB_RVV_VLEN_\" + str(512) + \"_100\",\n",
    "    #testset_dir = os.getcwd() + \"/tests_no_error_instr/CovGuidedTestset_VP_RV\" + str(xlen) + \"_RVV_1000_10.0\",\n",
    "    #testset_dir = os.getcwd() + \"/run/CovGuidedTestset_RV\" + str(xlen) + \"_RVV_test1_100_10.0\",\n",
    "    testset_pattern = \"*.json\",    \n",
    "    testset_max_fragments_per_run = 10,\n",
    "    \n",
    "    debug_port = 8000 + instance,\n",
    "\n",
    "    CompareRunner_dut = rvvts.DuTGDBRunner,\n",
    "\n",
    "    # Optional: Coverage\n",
    "    #RefCovRunner_coverage = rvvts.RISCVOVPSIMCoverageRunner,\n",
    "    #RISCVOVPSIMCover_metric = \"basic\", # basic, extended or mnemonic\n",
    "    #RISCVOVPSIMCover_metric = \"extended\", # basic, extended or mnemonic\n",
    "    #RISCVOVPSIMCover_sum_enable = True,\n",
    "    \n",
    "    xlen = xlen,\n",
    "    vector_vlen = vector_vlen,\n",
    "))\n",
    "\n",
    "if dut == \"VP\":\n",
    "    config[\"DuTGDBRunner_dut\"] = rvvts.VPRunner\n",
    "elif dut == \"QEMU\":\n",
    "    config[\"DuTGDBRunner_dut\"] = rvvts.QEMURunner\n",
    "else:\n",
    "    raise Exception(\"invalid dut\")"
   ]
  },
  {
   "cell_type": "markdown",
   "id": "5792edff-8ce2-434b-8dae-42afea996163",
   "metadata": {},
   "source": [
    "## Setup"
   ]
  },
  {
   "cell_type": "code",
   "execution_count": null,
   "id": "6ede87c0-4398-4fd7-b32c-a50b062cb632",
   "metadata": {
    "scrolled": true
   },
   "outputs": [],
   "source": [
    "runner = rvvts.ArchiveRunner(config)"
   ]
  },
  {
   "cell_type": "markdown",
   "id": "e7eb94d8-17a8-4ea8-aa7d-31fafca7e834",
   "metadata": {},
   "source": [
    "## Replay Testset"
   ]
  },
  {
   "cell_type": "code",
   "execution_count": null,
   "id": "0b2737eb-df1e-429d-a69e-4774b8360801",
   "metadata": {},
   "outputs": [],
   "source": [
    "def TestsetCodeErrMin_stats(runner):\n",
    "    tcem = runner.ArchiveRunner_dut\n",
    "    cemr = tcem.codeerrminrunner\n",
    "    covr = cemr.codecomparerunner.compare_runner.CompareRunner_refcov.RefCovRunner_cov\n",
    "\n",
    "    out = \", SUM: [ test: \" + str(tcem.testset_idx + 1) + \"/\"  + str(tcem.testset_len) + \\\n",
    "            \", subrun: \" + str(tcem.subrun) + \"/\"  + str(tcem.subruns) + \\\n",
    "            \", tests: \" + str(cemr.tests) +\\\n",
    "            \", completes: \" + str(cemr.completes) +\\\n",
    "            \", ignores: \" + str(cemr.ignores) +\\\n",
    "            \", timeouts: \" + str(cemr.timeouts) +\\\n",
    "            \", unknown_faults: \" + str(cemr.unknown_faults) +\\\n",
    "            \", errors: \" + str(cemr.errors) +\\\n",
    "            \", reductions: \" + str(cemr.reductions) +\\\n",
    "            \", minimizations: \" + str(cemr.minimizations) +\\\n",
    "            \", instr_errors: \" + str(cemr.instr_errors)\n",
    "\n",
    "    if covr and covr.coverage:\n",
    "        coverage_type = covr.coverage[\"sum\"][\"coverage\"][\"type\"]\n",
    "        coverage = covr.coverage[\"sum\"][\"coverage\"][\"percent\"]\n",
    "        out += \", coverage (\" + str(coverage_type) + \"): \" + str(coverage) + \"%\"\n",
    "\n",
    "    out += \" ] \"\n",
    "    return out"
   ]
  },
  {
   "cell_type": "code",
   "execution_count": null,
   "id": "73b7e1f9-dcd8-4434-a486-c2663fe4fbfa",
   "metadata": {},
   "outputs": [],
   "source": [
    "stats = runner.ArchiveRunner_dut.get_testset_stats()\n",
    "stats"
   ]
  },
  {
   "cell_type": "code",
   "execution_count": null,
   "id": "05746d69-56ca-4892-b9ba-7c810ad22a5a",
   "metadata": {
    "scrolled": true
   },
   "outputs": [],
   "source": [
    "rvvts.runner_bench(\n",
    "    runner,\n",
    "    custom_stat_f = TestsetCodeErrMin_stats,\n",
    "    iter = -1, # inf\n",
    "    timeout = 3.0,\n",
    "    stop_on_ignore = True,\n",
    ")"
   ]
  }
 ],
 "metadata": {
  "kernelspec": {
   "display_name": "Python 3 (ipykernel)",
   "language": "python",
   "name": "python3"
  },
  "language_info": {
   "codemirror_mode": {
    "name": "ipython",
    "version": 3
   },
   "file_extension": ".py",
   "mimetype": "text/x-python",
   "name": "python",
   "nbconvert_exporter": "python",
   "pygments_lexer": "ipython3",
   "version": "3.11.4"
  }
 },
 "nbformat": 4,
 "nbformat_minor": 5
}
